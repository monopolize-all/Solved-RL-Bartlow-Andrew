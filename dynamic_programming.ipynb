{
 "cells": [
  {
   "cell_type": "code",
   "execution_count": 204,
   "metadata": {},
   "outputs": [
    {
     "data": {
      "text/plain": [
       "[<module 'template' from '/Users/barrels/Documents/Projects/RL/Rl Batrlow Andrew/template.py'>,\n",
       " <module 'utility' from '/Users/barrels/Documents/Projects/RL/Rl Batrlow Andrew/utility.py'>]"
      ]
     },
     "execution_count": 204,
     "metadata": {},
     "output_type": "execute_result"
    }
   ],
   "source": [
    "from __future__ import annotations\n",
    "\n",
    "import math\n",
    "import random\n",
    "import numpy as np\n",
    "from tqdm import tqdm\n",
    "import matplotlib.pyplot as plt\n",
    "import scipy\n",
    "\n",
    "import importlib\n",
    "\n",
    "import template, utility\n",
    "[importlib.reload(lib) for lib in (template, utility)]"
   ]
  },
  {
   "cell_type": "markdown",
   "metadata": {},
   "source": [
    "Eg 4.1) GridWorld"
   ]
  },
  {
   "cell_type": "code",
   "execution_count": 205,
   "metadata": {},
   "outputs": [],
   "source": [
    "class GridWorld:\n",
    "\n",
    "    S = set(tuple(range(1, 15))+('t',))\n",
    "\n",
    "    A = set(('up', 'down', 'left', 'right'))\n",
    "\n",
    "    def next_state_and_reward_probabilities(self, s, a):\n",
    "        \"\"\"Returns tuple with elements as p, s_, r (i.e probability, next state and reward)\"\"\"\n",
    "        if s == 't': ans = 't', 0\n",
    "        \n",
    "        elif a == 'up':\n",
    "            if s==4: ans = 't', -1\n",
    "            elif s-4 > 0: ans = s-4, -1\n",
    "            else: ans = s, -1\n",
    "        \n",
    "        elif a == 'down':\n",
    "            if s==11: ans = 't', -1\n",
    "            elif s+4 < 15: ans =  s+4, -1\n",
    "            else: ans = s, -1\n",
    "        \n",
    "        elif a == 'left':\n",
    "            if s==1: ans = 't', -1\n",
    "            elif s%4 != 0: ans = s-1, -1\n",
    "            else: ans = s, -1\n",
    "        \n",
    "        elif a == 'right':\n",
    "            if s==14: ans = 't', -1\n",
    "            elif s%4 != 3: ans = s+1, -1\n",
    "            else: ans = s, -1\n",
    "\n",
    "        return ((1, ans[0], ans[1]),)\n",
    "\n",
    "    def plot(self, V):\n",
    "        vals = [V['t']] + [V[i] for i in range(1, 15)] + [V['t']]\n",
    "        for i in range(4):\n",
    "            for j in range(4):\n",
    "                print(f'{vals.pop(0):6.4f}', end=' ')\n",
    "            print()\n",
    "        print()\n",
    "\n",
    "gridworld = GridWorld()"
   ]
  },
  {
   "cell_type": "code",
   "execution_count": 206,
   "metadata": {},
   "outputs": [],
   "source": [
    "def equiprobable_random_policy(s, A):\n",
    "    len_A = len(A)\n",
    "    return (1/len_A,) * len_A"
   ]
  },
  {
   "cell_type": "code",
   "execution_count": 207,
   "metadata": {},
   "outputs": [],
   "source": [
    "def iterative_policy_evaluation(world: GridWorld, policy_action_probs, V=None, thetha=0.1, gamma=0.9, plotter=None, do_plot=False):\n",
    "\n",
    "    if plotter is None and hasattr(world, 'plot'): plotter = world.plot\n",
    "\n",
    "    if V is None:\n",
    "        V = {}\n",
    "        for s in world.S:\n",
    "            V[s] = 0\n",
    "\n",
    "    if do_plot and plotter: plotter(V)\n",
    "\n",
    "    while True:\n",
    "        delta = 0\n",
    "\n",
    "        for s in world.S:\n",
    "            v = V[s]\n",
    "\n",
    "            V[s] = 0\n",
    "            for a, policy_action_probability in zip(world.A, policy_action_probs(s, world.A)):\n",
    "                for next_state_prob, s_, r in world.next_state_and_reward_probabilities(s, a):\n",
    "                    V[s] += policy_action_probability * next_state_prob * (r + gamma * V[s_])\n",
    "\n",
    "            delta = max(delta, abs(v - V[s]))\n",
    "\n",
    "        if do_plot and plotter: plotter(V)\n",
    "        \n",
    "        if delta < thetha: break\n",
    "\n",
    "    return V"
   ]
  },
  {
   "cell_type": "code",
   "execution_count": 208,
   "metadata": {},
   "outputs": [
    {
     "name": "stdout",
     "output_type": "stream",
     "text": [
      "0.0000 0.0000 0.0000 0.0000 \n",
      "0.0000 0.0000 0.0000 0.0000 \n",
      "0.0000 0.0000 0.0000 0.0000 \n",
      "0.0000 0.0000 0.0000 0.0000 \n",
      "\n",
      "0.0000 -1.1875 -1.5586 -1.7527 \n",
      "-1.1250 -1.5781 -1.7842 -1.9467 \n",
      "-1.4062 -1.7461 -1.8826 -2.0198 \n",
      "-1.4766 -1.8057 -1.9221 0.0000 \n",
      "\n",
      "0.0000 -2.1677 -2.9702 -2.9542 \n",
      "-2.0576 -2.9389 -3.4346 -3.2909 \n",
      "-2.6465 -3.3184 -3.6737 -2.8037 \n",
      "-2.3509 -2.8978 -2.6429 0.0000 \n",
      "\n",
      "0.0000 -3.0341 -4.1322 -3.8424 \n",
      "-2.8704 -4.1644 -4.8153 -4.1031 \n",
      "-3.6143 -4.5876 -4.7123 -3.2664 \n",
      "-2.9341 -3.5411 -3.0634 0.0000 \n",
      "\n",
      "0.0000 -3.7802 -5.0743 -4.4541 \n",
      "-3.5558 -5.1847 -5.7686 -4.6389 \n",
      "-4.3645 -5.4507 -5.3873 -3.5690 \n",
      "-3.3227 -3.9592 -3.3366 0.0000 \n",
      "\n",
      "0.0000 -4.3935 -5.7551 -4.8762 \n",
      "-4.1091 -5.9305 -6.4279 -5.0038 \n",
      "-4.8940 -6.0427 -5.8441 -3.7745 \n",
      "-3.5857 -4.2413 -3.5213 0.0000 \n",
      "\n",
      "0.0000 -4.8392 -6.2323 -5.1678 \n",
      "-4.5076 -6.4544 -6.8836 -5.2549 \n",
      "-5.2608 -6.4501 -6.1574 -3.9156 \n",
      "-3.7656 -4.4343 -3.6479 0.0000 \n",
      "\n",
      "0.0000 -5.1521 -6.5636 -5.3694 \n",
      "-4.7860 -6.8180 -7.1985 -5.4281 \n",
      "-5.5139 -6.7309 -6.3732 -4.0128 \n",
      "-3.8892 -4.5670 -3.7351 0.0000 \n",
      "\n",
      "0.0000 -5.3692 -6.7929 -5.5087 \n",
      "-4.9787 -7.0693 -7.4159 -5.5477 \n",
      "-5.6885 -6.9245 -6.5221 -4.0799 \n",
      "-3.9743 -4.6585 -3.7951 0.0000 \n",
      "\n",
      "0.0000 -5.5194 -6.9513 -5.6050 \n",
      "-5.1118 -7.2429 -7.5660 -5.6302 \n",
      "-5.8088 -7.0581 -6.6248 -4.1262 \n",
      "-4.0330 -4.7215 -3.8366 0.0000 \n",
      "\n",
      "0.0000 -5.6232 -7.0607 -5.6714 \n",
      "-5.2037 -7.3627 -7.6696 -5.6872 \n",
      "-5.8919 -7.1502 -6.6957 -4.1582 \n",
      "-4.0734 -4.7651 -3.8652 0.0000 \n",
      "\n",
      "0.0000 -5.6948 -7.1362 -5.7172 \n",
      "-5.2671 -7.4454 -7.7411 -5.7265 \n",
      "-5.9492 -7.2138 -6.7446 -4.1803 \n",
      "-4.1014 -4.7951 -3.8849 0.0000 \n",
      "\n",
      "0.0000 -5.7443 -7.1883 -5.7489 \n",
      "-5.3108 -7.5025 -7.7905 -5.7537 \n",
      "-5.9887 -7.2577 -6.7784 -4.1955 \n",
      "-4.1206 -4.8158 -3.8985 0.0000 \n",
      "\n",
      "0.0000 -5.7784 -7.2243 -5.7708 \n",
      "-5.3410 -7.5419 -7.8246 -5.7724 \n",
      "-6.0160 -7.2880 -6.8017 -4.2060 \n",
      "-4.1339 -4.8301 -3.9079 0.0000 \n",
      "\n",
      "0.0000 -5.8019 -7.2491 -5.7858 \n",
      "-5.3618 -7.5691 -7.8481 -5.7854 \n",
      "-6.0348 -7.3089 -6.8177 -4.2133 \n",
      "-4.1431 -4.8400 -3.9144 0.0000 \n",
      "\n",
      "0.0000 -5.8182 -7.2663 -5.7962 \n",
      "-5.3762 -7.5879 -7.8643 -5.7943 \n",
      "-6.0478 -7.3234 -6.8288 -4.2183 \n",
      "-4.1495 -4.8468 -3.9189 0.0000 \n",
      "\n",
      "0.0000 -5.8294 -7.2781 -5.8034 \n",
      "-5.3861 -7.6008 -7.8755 -5.8004 \n",
      "-6.0568 -7.3333 -6.8365 -4.2217 \n",
      "-4.1538 -4.8515 -3.9220 0.0000 \n",
      "\n",
      "0.0000 -5.8372 -7.2863 -5.8084 \n",
      "-5.3930 -7.6097 -7.8832 -5.8047 \n",
      "-6.0630 -7.3402 -6.8418 -4.2241 \n",
      "-4.1568 -4.8548 -3.9241 0.0000 \n",
      "\n"
     ]
    },
    {
     "data": {
      "text/plain": [
       "{1: -5.837163204832155,\n",
       " 2: -7.286282947468542,\n",
       " 3: -5.808388720801365,\n",
       " 4: -5.392998434758974,\n",
       " 5: -7.60974658183163,\n",
       " 6: -7.883245828131575,\n",
       " 7: -5.804701901547776,\n",
       " 8: -6.06297994676307,\n",
       " 9: -7.34018602265264,\n",
       " 10: -6.8417936717736785,\n",
       " 11: -4.224123893330364,\n",
       " 12: -4.156842657336515,\n",
       " 13: -4.85475826762328,\n",
       " 14: -3.9241379848492395,\n",
       " 't': 0.0}"
      ]
     },
     "execution_count": 208,
     "metadata": {},
     "output_type": "execute_result"
    }
   ],
   "source": [
    "iterative_policy_evaluation(gridworld, equiprobable_random_policy, thetha=0.01, gamma=1, do_plot=True)"
   ]
  },
  {
   "cell_type": "code",
   "execution_count": 209,
   "metadata": {},
   "outputs": [],
   "source": [
    "def policy_iteration(world: GridWorld, V=None, policy=None, thetha=0.1, gamma=0.9, plotter=None, do_plot=False, do_eval_plot=False):\n",
    "\n",
    "    if plotter is None and hasattr(world, 'plot'): plotter = world.plot\n",
    "\n",
    "    if V is None:\n",
    "        V = {}\n",
    "        for s in world.S:\n",
    "            V[s] = 0\n",
    "\n",
    "    if policy is None:\n",
    "        policy = {}\n",
    "        for s in world.S:\n",
    "            policy[s] = random.choice(list(world.A))\n",
    "\n",
    "    if do_plot and plotter: plotter(V)\n",
    "\n",
    "    while True:\n",
    "        def policy_action_probs(s, A):\n",
    "            return np.eye(len(A))[list(A).index(policy[s])]\n",
    "\n",
    "        V = iterative_policy_evaluation(world, policy_action_probs, V, thetha, gamma, do_plot=do_eval_plot)\n",
    "\n",
    "        policy_stable = True\n",
    "\n",
    "        for s in world.S:\n",
    "            old_action = policy[s]\n",
    "\n",
    "            max_G = -math.inf\n",
    "\n",
    "            for a in world.A:\n",
    "                G = 0\n",
    "                for next_state_prob, s_, r in world.next_state_and_reward_probabilities(s, a):\n",
    "                    G = next_state_prob * (r + gamma * V[s_])\n",
    "                    \n",
    "                if max_G < G:\n",
    "                    policy[s] = a\n",
    "                    max_G = G\n",
    "\n",
    "            if old_action != policy[s]:\n",
    "                policy_stable = False\n",
    "\n",
    "        if do_plot and plotter: plotter(V)\n",
    "\n",
    "        if policy_stable: break\n",
    "\n",
    "    return V"
   ]
  },
  {
   "cell_type": "code",
   "execution_count": 210,
   "metadata": {},
   "outputs": [
    {
     "name": "stdout",
     "output_type": "stream",
     "text": [
      "0.0000 0.0000 0.0000 0.0000 \n",
      "0.0000 0.0000 0.0000 0.0000 \n",
      "0.0000 0.0000 0.0000 0.0000 \n",
      "0.0000 0.0000 0.0000 0.0000 \n",
      "\n",
      "0.0000 -9.7747 -9.7972 -9.8175 \n",
      "-1.0000 -1.9000 -9.8175 -1.0000 \n",
      "-9.7497 -9.7972 -9.7972 -1.0000 \n",
      "-9.7747 -9.8175 -9.8358 0.0000 \n",
      "\n",
      "0.0000 -1.0000 -1.9000 -2.7100 \n",
      "-1.0000 -1.9000 -2.7100 -1.9000 \n",
      "-1.9000 -2.7100 -1.9000 -1.0000 \n",
      "-2.7100 -3.4390 -1.0000 0.0000 \n",
      "\n",
      "0.0000 -1.0000 -1.9000 -2.7100 \n",
      "-1.0000 -1.9000 -2.7100 -1.9000 \n",
      "-1.9000 -2.7100 -1.9000 -1.0000 \n",
      "-2.7100 -1.9000 -1.0000 0.0000 \n",
      "\n",
      "0.0000 -1.0000 -1.9000 -2.7100 \n",
      "-1.0000 -1.9000 -2.7100 -1.9000 \n",
      "-1.9000 -2.7100 -1.9000 -1.0000 \n",
      "-2.7100 -1.9000 -1.0000 0.0000 \n",
      "\n"
     ]
    },
    {
     "data": {
      "text/plain": [
       "{1: -1.0,\n",
       " 2: -1.9,\n",
       " 3: -2.71,\n",
       " 4: -1.0,\n",
       " 5: -1.9,\n",
       " 6: -2.71,\n",
       " 7: -1.9,\n",
       " 8: -1.9,\n",
       " 9: -2.71,\n",
       " 10: -1.9,\n",
       " 11: -1.0,\n",
       " 12: -2.71,\n",
       " 13: -1.9,\n",
       " 14: -1.0,\n",
       " 't': 0.0}"
      ]
     },
     "execution_count": 210,
     "metadata": {},
     "output_type": "execute_result"
    }
   ],
   "source": [
    "policy_iteration(gridworld, thetha=0.1, gamma=0.9, do_plot=True)"
   ]
  },
  {
   "cell_type": "code",
   "execution_count": null,
   "metadata": {},
   "outputs": [],
   "source": [
    "factorials = [1]\n",
    "for i in range(1, 12):\n",
    "    factorials.append(factorials[-1]*i)\n",
    "\n",
    "def poission_prob(l, n):\n",
    "    return l ** n / factorials[n] * math.exp(-l)"
   ]
  },
  {
   "cell_type": "code",
   "execution_count": 225,
   "metadata": {},
   "outputs": [
    {
     "data": {
      "text/plain": [
       "[<matplotlib.lines.Line2D at 0x14133cd30>]"
      ]
     },
     "execution_count": 225,
     "metadata": {},
     "output_type": "execute_result"
    },
    {
     "data": {
      "image/png": "[encoded data removed]",
      "text/plain": [
       "<Figure size 640x480 with 1 Axes>"
      ]
     },
     "metadata": {},
     "output_type": "display_data"
    }
   ],
   "source": [
    "n = 10\n",
    "x = np.linspace(0, n-1, n)\n",
    "l = 4  # lambda\n",
    "y = l ** x / scipy.special.factorial(x) * math.exp(-l)\n",
    "y = [poission_prob(l, int(xi)) for xi in x]\n",
    "\n",
    "plt.plot(x, y)"
   ]
  },
  {
   "cell_type": "code",
   "execution_count": 215,
   "metadata": {},
   "outputs": [],
   "source": [
    "class JackCarRentalWorld:\n",
    "\n",
    "    # Poission distribution arguments\n",
    "    request_i_lambda = 3\n",
    "    request_j_lambda = 4\n",
    "    return_i_lambda = 3\n",
    "    return_j_lambda = 2\n",
    "    \n",
    "    S = {(i, j) for i in range(21) for j in range(21)}\n",
    "\n",
    "    A = set(range(-5, 6))\n",
    "\n",
    "    def next_state_and_reward_probabilities(self, s, a):\n",
    "        \"\"\"Returns p, s_, r (i.e probability, next state and reward)\"\"\"\n",
    "        i, j = s\n",
    "\n",
    "        results = []\n",
    "\n",
    "        max_requests = 10\n",
    "        max_returns = 10\n",
    "        for request_i in range(0, max_requests+1):\n",
    "            for request_j in range(0, max_requests+1):\n",
    "                for return_i in range(0, max_returns+1):\n",
    "                    for return_j in range(0, max_returns+1):\n",
    "                        prob = poission_prob(self.request_i_lambda, request_i)\n",
    "                        prob *= poission_prob(self.request_j_lambda, request_j)\n",
    "                        prob *= poission_prob(self.return_i_lambda, return_i)\n",
    "                        prob *= poission_prob(self.return_j_lambda, return_j)\n",
    "                        i_ = min(20, max(0, i - request_i) + return_i)\n",
    "                        j_ = min(20, max(0, j - request_j) + return_j)\n",
    "                        reward = min(i, request_i) * 10 + min(j, request_j) * 10 - abs(a) * 2\n",
    "                        results.append((prob, (i_, j_), reward))\n",
    "\n",
    "        return results\n",
    "\n",
    "    def plot(self, V):\n",
    "        for i in range(21):\n",
    "            for j in range(21):\n",
    "                print(V[(i, j)], end=' ')\n",
    "            print()\n",
    "\n",
    "        print()\n",
    "\n",
    "jackcarrentalworld = JackCarRentalWorld()"
   ]
  },
  {
   "cell_type": "code",
   "execution_count": 217,
   "metadata": {},
   "outputs": [],
   "source": [
    "#jackcarrentalworld.next_state_and_reward_probabilities((10, 10), 5)"
   ]
  },
  {
   "cell_type": "code",
   "execution_count": 218,
   "metadata": {},
   "outputs": [
    {
     "name": "stdout",
     "output_type": "stream",
     "text": [
      "0 0 0 0 0 0 0 0 0 0 0 0 0 0 0 0 0 0 0 0 0 \n",
      "0 0 0 0 0 0 0 0 0 0 0 0 0 0 0 0 0 0 0 0 0 \n",
      "0 0 0 0 0 0 0 0 0 0 0 0 0 0 0 0 0 0 0 0 0 \n",
      "0 0 0 0 0 0 0 0 0 0 0 0 0 0 0 0 0 0 0 0 0 \n",
      "0 0 0 0 0 0 0 0 0 0 0 0 0 0 0 0 0 0 0 0 0 \n",
      "0 0 0 0 0 0 0 0 0 0 0 0 0 0 0 0 0 0 0 0 0 \n",
      "0 0 0 0 0 0 0 0 0 0 0 0 0 0 0 0 0 0 0 0 0 \n",
      "0 0 0 0 0 0 0 0 0 0 0 0 0 0 0 0 0 0 0 0 0 \n",
      "0 0 0 0 0 0 0 0 0 0 0 0 0 0 0 0 0 0 0 0 0 \n",
      "0 0 0 0 0 0 0 0 0 0 0 0 0 0 0 0 0 0 0 0 0 \n",
      "0 0 0 0 0 0 0 0 0 0 0 0 0 0 0 0 0 0 0 0 0 \n",
      "0 0 0 0 0 0 0 0 0 0 0 0 0 0 0 0 0 0 0 0 0 \n",
      "0 0 0 0 0 0 0 0 0 0 0 0 0 0 0 0 0 0 0 0 0 \n",
      "0 0 0 0 0 0 0 0 0 0 0 0 0 0 0 0 0 0 0 0 0 \n",
      "0 0 0 0 0 0 0 0 0 0 0 0 0 0 0 0 0 0 0 0 0 \n",
      "0 0 0 0 0 0 0 0 0 0 0 0 0 0 0 0 0 0 0 0 0 \n",
      "0 0 0 0 0 0 0 0 0 0 0 0 0 0 0 0 0 0 0 0 0 \n",
      "0 0 0 0 0 0 0 0 0 0 0 0 0 0 0 0 0 0 0 0 0 \n",
      "0 0 0 0 0 0 0 0 0 0 0 0 0 0 0 0 0 0 0 0 0 \n",
      "0 0 0 0 0 0 0 0 0 0 0 0 0 0 0 0 0 0 0 0 0 \n",
      "0 0 0 0 0 0 0 0 0 0 0 0 0 0 0 0 0 0 0 0 0 \n",
      "0 0 0 0 0 0 0 0 0 0 0 0 0 0 0 0 0 0 0 0 0 \n",
      "0 0 0 0 0 0 0 0 0 0 0 0 0 0 0 0 0 0 0 0 0 \n",
      "0 0 0 0 0 0 0 0 0 0 0 0 0 0 0 0 0 0 0 0 0 \n",
      "0 0 0 0 0 0 0 0 0 0 0 0 0 0 0 0 0 0 0 0 0 \n",
      "0 0 0 0 0 0 0 0 0 0 0 0 0 0 0 0 0 0 0 0 0 \n",
      "0 0 0 0 0 0 0 0 0 0 0 0 0 0 0 0 0 0 0 0 0 \n",
      "0 0 0 0 0 0 0 0 0 0 0 0 0 0 0 0 0 0 0 0 0 \n",
      "0 0 0 0 0 0 0 0 0 0 0 0 0 0 0 0 0 0 0 0 0 \n",
      "0 0 0 0 0 0 0 0 0 0 0 0 0 0 0 0 0 0 0 0 0 \n",
      "0 0 0 0 0 0 0 0 0 0 0 0 0 0 0 0 0 0 0 0 0 \n",
      "0 0 0 0 0 0 0 0 0 0 0 0 0 0 0 0 0 0 0 0 0 \n",
      "0 0 0 0 0 0 0 0 0 0 0 0 0 0 0 0 0 0 0 0 0 \n",
      "0 0 0 0 0 0 0 0 0 0 0 0 0 0 0 0 0 0 0 0 0 \n",
      "0 0 0 0 0 0 0 0 0 0 0 0 0 0 0 0 0 0 0 0 0 \n",
      "0 0 0 0 0 0 0 0 0 0 0 0 0 0 0 0 0 0 0 0 0 \n",
      "0 0 0 0 0 0 0 0 0 0 0 0 0 0 0 0 0 0 0 0 0 \n",
      "0 0 0 0 0 0 0 0 0 0 0 0 0 0 0 0 0 0 0 0 0 \n",
      "0 0 0 0 0 0 0 0 0 0 0 0 0 0 0 0 0 0 0 0 0 \n",
      "0 0 0 0 0 0 0 0 0 0 0 0 0 0 0 0 0 0 0 0 0 \n",
      "0 0 0 0 0 0 0 0 0 0 0 0 0 0 0 0 0 0 0 0 0 \n",
      "0 0 0 0 0 0 0 0 0 0 0 0 0 0 0 0 0 0 0 0 0 \n"
     ]
    },
    {
     "ename": "KeyboardInterrupt",
     "evalue": "",
     "output_type": "error",
     "traceback": [
      "\u001b[0;31m---------------------------------------------------------------------------\u001b[0m",
      "\u001b[0;31mKeyboardInterrupt\u001b[0m                         Traceback (most recent call last)",
      "Cell \u001b[0;32mIn[218], line 1\u001b[0m\n\u001b[0;32m----> 1\u001b[0m \u001b[43mpolicy_iteration\u001b[49m\u001b[43m(\u001b[49m\u001b[43mjackcarrentalworld\u001b[49m\u001b[43m,\u001b[49m\u001b[43m \u001b[49m\u001b[43mthetha\u001b[49m\u001b[38;5;241;43m=\u001b[39;49m\u001b[38;5;241;43m0.1\u001b[39;49m\u001b[43m,\u001b[49m\u001b[43m \u001b[49m\u001b[43mgamma\u001b[49m\u001b[38;5;241;43m=\u001b[39;49m\u001b[38;5;241;43m0.9\u001b[39;49m\u001b[43m,\u001b[49m\u001b[43m \u001b[49m\u001b[43mdo_plot\u001b[49m\u001b[38;5;241;43m=\u001b[39;49m\u001b[38;5;28;43;01mTrue\u001b[39;49;00m\u001b[43m,\u001b[49m\u001b[43m \u001b[49m\u001b[43mdo_eval_plot\u001b[49m\u001b[38;5;241;43m=\u001b[39;49m\u001b[38;5;28;43;01mTrue\u001b[39;49;00m\u001b[43m)\u001b[49m\n",
      "Cell \u001b[0;32mIn[209], line 21\u001b[0m, in \u001b[0;36mpolicy_iteration\u001b[0;34m(world, V, policy, thetha, gamma, plotter, do_plot, do_eval_plot)\u001b[0m\n\u001b[1;32m     18\u001b[0m \u001b[38;5;28;01mdef\u001b[39;00m \u001b[38;5;21mpolicy_action_probs\u001b[39m(s, A):\n\u001b[1;32m     19\u001b[0m     \u001b[38;5;28;01mreturn\u001b[39;00m np\u001b[38;5;241m.\u001b[39meye(\u001b[38;5;28mlen\u001b[39m(A))[\u001b[38;5;28mlist\u001b[39m(A)\u001b[38;5;241m.\u001b[39mindex(policy[s])]\n\u001b[0;32m---> 21\u001b[0m V \u001b[38;5;241m=\u001b[39m \u001b[43miterative_policy_evaluation\u001b[49m\u001b[43m(\u001b[49m\u001b[43mworld\u001b[49m\u001b[43m,\u001b[49m\u001b[43m \u001b[49m\u001b[43mpolicy_action_probs\u001b[49m\u001b[43m,\u001b[49m\u001b[43m \u001b[49m\u001b[43mV\u001b[49m\u001b[43m,\u001b[49m\u001b[43m \u001b[49m\u001b[43mthetha\u001b[49m\u001b[43m,\u001b[49m\u001b[43m \u001b[49m\u001b[43mgamma\u001b[49m\u001b[43m,\u001b[49m\u001b[43m \u001b[49m\u001b[43mdo_plot\u001b[49m\u001b[38;5;241;43m=\u001b[39;49m\u001b[43mdo_eval_plot\u001b[49m\u001b[43m)\u001b[49m\n\u001b[1;32m     23\u001b[0m policy_stable \u001b[38;5;241m=\u001b[39m \u001b[38;5;28;01mTrue\u001b[39;00m\n\u001b[1;32m     25\u001b[0m \u001b[38;5;28;01mfor\u001b[39;00m s \u001b[38;5;129;01min\u001b[39;00m world\u001b[38;5;241m.\u001b[39mS:\n",
      "Cell \u001b[0;32mIn[207], line 20\u001b[0m, in \u001b[0;36miterative_policy_evaluation\u001b[0;34m(world, policy_action_probs, V, thetha, gamma, plotter, do_plot)\u001b[0m\n\u001b[1;32m     18\u001b[0m V[s] \u001b[38;5;241m=\u001b[39m \u001b[38;5;241m0\u001b[39m\n\u001b[1;32m     19\u001b[0m \u001b[38;5;28;01mfor\u001b[39;00m a, policy_action_probability \u001b[38;5;129;01min\u001b[39;00m \u001b[38;5;28mzip\u001b[39m(world\u001b[38;5;241m.\u001b[39mA, policy_action_probs(s, world\u001b[38;5;241m.\u001b[39mA)):\n\u001b[0;32m---> 20\u001b[0m     \u001b[38;5;28;01mfor\u001b[39;00m next_state_prob, s_, r \u001b[38;5;129;01min\u001b[39;00m \u001b[43mworld\u001b[49m\u001b[38;5;241;43m.\u001b[39;49m\u001b[43mnext_state_and_reward_probabilities\u001b[49m\u001b[43m(\u001b[49m\u001b[43ms\u001b[49m\u001b[43m,\u001b[49m\u001b[43m \u001b[49m\u001b[43ma\u001b[49m\u001b[43m)\u001b[49m:\n\u001b[1;32m     21\u001b[0m         V[s] \u001b[38;5;241m+\u001b[39m\u001b[38;5;241m=\u001b[39m policy_action_probability \u001b[38;5;241m*\u001b[39m next_state_prob \u001b[38;5;241m*\u001b[39m (r \u001b[38;5;241m+\u001b[39m gamma \u001b[38;5;241m*\u001b[39m V[s_])\n\u001b[1;32m     23\u001b[0m delta \u001b[38;5;241m=\u001b[39m \u001b[38;5;28mmax\u001b[39m(delta, \u001b[38;5;28mabs\u001b[39m(v \u001b[38;5;241m-\u001b[39m V[s]))\n",
      "Cell \u001b[0;32mIn[215], line 34\u001b[0m, in \u001b[0;36mJackCarRentalWorld.next_state_and_reward_probabilities\u001b[0;34m(self, s, a)\u001b[0m\n\u001b[1;32m     32\u001b[0m prob \u001b[38;5;241m=\u001b[39m poission_prob(\u001b[38;5;28mself\u001b[39m\u001b[38;5;241m.\u001b[39mrequest_i_lambda, request_i)\n\u001b[1;32m     33\u001b[0m prob \u001b[38;5;241m*\u001b[39m\u001b[38;5;241m=\u001b[39m poission_prob(\u001b[38;5;28mself\u001b[39m\u001b[38;5;241m.\u001b[39mrequest_j_lambda, request_j)\n\u001b[0;32m---> 34\u001b[0m prob \u001b[38;5;241m*\u001b[39m\u001b[38;5;241m=\u001b[39m \u001b[43mpoission_prob\u001b[49m\u001b[43m(\u001b[49m\u001b[38;5;28;43mself\u001b[39;49m\u001b[38;5;241;43m.\u001b[39;49m\u001b[43mreturn_i_lambda\u001b[49m\u001b[43m,\u001b[49m\u001b[43m \u001b[49m\u001b[43mreturn_i\u001b[49m\u001b[43m)\u001b[49m\n\u001b[1;32m     35\u001b[0m prob \u001b[38;5;241m*\u001b[39m\u001b[38;5;241m=\u001b[39m poission_prob(\u001b[38;5;28mself\u001b[39m\u001b[38;5;241m.\u001b[39mreturn_j_lambda, return_j)\n\u001b[1;32m     36\u001b[0m i_ \u001b[38;5;241m=\u001b[39m \u001b[38;5;28mmin\u001b[39m(\u001b[38;5;241m20\u001b[39m, \u001b[38;5;28mmax\u001b[39m(\u001b[38;5;241m0\u001b[39m, i \u001b[38;5;241m-\u001b[39m request_i) \u001b[38;5;241m+\u001b[39m return_i)\n",
      "Cell \u001b[0;32mIn[215], line 6\u001b[0m, in \u001b[0;36mpoission_prob\u001b[0;34m(l, n)\u001b[0m\n\u001b[1;32m      5\u001b[0m \u001b[38;5;28;01mdef\u001b[39;00m \u001b[38;5;21mpoission_prob\u001b[39m(l, n):\n\u001b[0;32m----> 6\u001b[0m     \u001b[38;5;28;01mreturn\u001b[39;00m \u001b[43ml\u001b[49m\u001b[43m \u001b[49m\u001b[38;5;241;43m*\u001b[39;49m\u001b[38;5;241;43m*\u001b[39;49m\u001b[43m \u001b[49m\u001b[43mn\u001b[49m \u001b[38;5;241m/\u001b[39m factorials[n] \u001b[38;5;241m*\u001b[39m math\u001b[38;5;241m.\u001b[39mexp(\u001b[38;5;241m-\u001b[39ml)\n",
      "\u001b[0;31mKeyboardInterrupt\u001b[0m: "
     ]
    }
   ],
   "source": [
    "policy_iteration(jackcarrentalworld, thetha=0.1, gamma=0.9, do_plot=True, do_eval_plot=True)"
   ]
  },
  {
   "cell_type": "code",
   "execution_count": null,
   "metadata": {},
   "outputs": [],
   "source": []
  }
 ],
 "metadata": {
  "kernelspec": {
   "display_name": "Python 3",
   "language": "python",
   "name": "python3"
  },
  "language_info": {
   "codemirror_mode": {
    "name": "ipython",
    "version": 3
   },
   "file_extension": ".py",
   "mimetype": "text/x-python",
   "name": "python",
   "nbconvert_exporter": "python",
   "pygments_lexer": "ipython3",
   "version": "3.8.10"
  }
 },
 "nbformat": 4,
 "nbformat_minor": 2
}
